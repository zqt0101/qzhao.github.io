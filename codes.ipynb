{
 "cells": [
  {
   "attachments": {},
   "cell_type": "markdown",
   "metadata": {},
   "source": [
    "# Dependencies"
   ]
  },
  {
   "cell_type": "code",
   "execution_count": 1,
   "metadata": {},
   "outputs": [],
   "source": [
    "%matplotlib inline\n",
    "%precision 32\n",
    "import numpy as np\n",
    "import matplotlib.pyplot as plt\n",
    "import matplotlib.ticker as ticker\n",
    "from scipy.sparse import csr_matrix, diags, kron, eye, csc_matrix, tril, triu\n",
    "from scipy.sparse.linalg import LinearOperator, spilu, gmres, inv\n",
    "from numpy.linalg import norm\n",
    "import time"
   ]
  },
  {
   "attachments": {},
   "cell_type": "markdown",
   "metadata": {},
   "source": [
    "# Preconditioner M"
   ]
  },
  {
   "attachments": {},
   "cell_type": "markdown",
   "metadata": {},
   "source": [
    "### Construct $M_{mos-d}$ Preconditioner: Direct Construction"
   ]
  },
  {
   "cell_type": "code",
   "execution_count": 2,
   "metadata": {},
   "outputs": [],
   "source": [
    "def mos_d_preconditioner(A, m):\n",
    "    n = A.shape[0]\n",
    "    T = diags(abs(A.diagonal()), 0)\n",
    "    T_inv = diags(1 / abs(A.diagonal()), 0)\n",
    "    E = 1/(m+1)*T_inv * (diags(A.diagonal(), 0)-T)\n",
    "    J = diags(np.ones(n),0) +E\n",
    "\n",
    "    # off-diagonal matrice in the paper, not defined specifically\n",
    "    A_dblprimes=[]\n",
    "    for i in range(m+1):\n",
    "        A_dblprimes.append(csr_matrix((n,n)))\n",
    "    A_primes = []\n",
    "    for l in range(m+1):\n",
    "        A_prime = J.power(-(m- 1 -l))* A_dblprimes[l] *J.power(-l)\n",
    "        A_primes.append(A_prime)\n",
    "    M_primes = []\n",
    "    for l in range(m+1):\n",
    "        M_prime = (T * E + A_primes[l])\n",
    "        M_primes.append(M_prime)\n",
    "\n",
    "    \n",
    "    M = (diags(np.ones(n), 0)+T_inv * M_primes[0])\n",
    "    for l in range(1, m+1):\n",
    "        M @= (diags(np.ones(n), 0)+T_inv * M_primes[l])\n",
    "    M = T @ M\n",
    "    return csr_matrix(inv(csc_matrix(M)))\n"
   ]
  },
  {
   "attachments": {},
   "cell_type": "markdown",
   "metadata": {},
   "source": [
    "### Construct $M_{mos-a}$ Preconditioner: Adaptive Construction"
   ]
  },
  {
   "cell_type": "code",
   "execution_count": 3,
   "metadata": {},
   "outputs": [],
   "source": [
    "def off_diagonal(matrix, index):\n",
    "    if isinstance(matrix, np.ndarray):\n",
    "        row = matrix[index, :]\n",
    "    else:\n",
    "        row = matrix.getrow(index).toarray()[0]\n",
    "    off_diago= row.copy()\n",
    "    off_diago[index] = 0\n",
    "    return off_diago"
   ]
  },
  {
   "cell_type": "code",
   "execution_count": 4,
   "metadata": {},
   "outputs": [],
   "source": [
    "def max_indices(a, k):\n",
    "    return np.argpartition(a, -k)[-k: ]"
   ]
  },
  {
   "cell_type": "code",
   "execution_count": 5,
   "metadata": {},
   "outputs": [],
   "source": [
    "def S_max(A, q):\n",
    "    n = A.shape[0]\n",
    "    S_max_set = set()\n",
    "    for i in range(n):\n",
    "        off_diag = np.abs(off_diagonal(A, i))\n",
    "        max_index = max_indices(off_diag, q[i])\n",
    "        for j in max_index:\n",
    "            S_max_set.add((i, j))\n",
    "    return S_max_set"
   ]
  },
  {
   "cell_type": "code",
   "execution_count": 6,
   "metadata": {},
   "outputs": [],
   "source": [
    "def prune(A, S):\n",
    "    prune1 = []\n",
    "    prune2 = []\n",
    "    prune3 = [0]\n",
    "    count=0\n",
    "    for i in range(A.shape[0]):\n",
    "        row_ele=[]\n",
    "        row_index=[]\n",
    "        for j in range(A.shape[0]):\n",
    "            if (i, j) in S:\n",
    "                row_ele.append(A[i, j])\n",
    "                row_index.append(j)\n",
    "                count+=1\n",
    "        prune1.extend(row_ele)\n",
    "        prune2.extend(row_index)\n",
    "        prune3.append(count)\n",
    "    return csr_matrix((prune1,prune2,prune3), shape=(A.shape[0],A.shape[0]))"
   ]
  },
  {
   "cell_type": "code",
   "execution_count": 7,
   "metadata": {},
   "outputs": [],
   "source": [
    "# Since for our testing sparse matrices, diagonal is never going be to zero, so unit(x) will always output the norm of the value\n",
    "def diagp1(A):\n",
    "        su = np.abs(A).sum(axis=1).A1\n",
    "        output = np.linalg.norm(A.diagonal())*np.maximum(np.abs(A.diagonal()), su-np.abs(A.diagonal()))\n",
    "        return diags(output, 0)"
   ]
  },
  {
   "cell_type": "code",
   "execution_count": 8,
   "metadata": {},
   "outputs": [],
   "source": [
    "def mos_a_preconditioner(A, m, q):\n",
    "    n = A.shape[0]\n",
    "    # we use set notation since in the paper, they also use the set notation\n",
    "    S_diag = set()\n",
    "\n",
    "    for i in range(n):\n",
    "        for j in range(n):\n",
    "            if i == j:\n",
    "                S_diag.add((i, j))\n",
    "\n",
    "    B   = list(np.zeros(m + 1))\n",
    "    M   = list(np.zeros(m + 1))\n",
    "    S_B = list(np.zeros(m + 2))\n",
    "    S_M = list(np.zeros(m + 1))\n",
    "\n",
    "    S_B[0] = S_diag.union(S_max(A, q))\n",
    "    B[0]   = prune(A, S_B[0])\n",
    "    S_M[0] = S_diag.union(S_max(B[0], q))\n",
    "\n",
    "    \n",
    "    for l in range(1, m+1):\n",
    "       \n",
    "        M[l-1] = prune(B[l-1], S_M[l-1]).toarray()\n",
    "\n",
    "        M_inv =np.linalg.inv(M[l-1])\n",
    "\n",
    "        S_B[l]= S_diag.union(S_max(B[l-1].dot(M_inv) , q))\n",
    "        B[l]= prune(B[l - 1].dot(M_inv) , S_B[l])\n",
    "        S_M[l] = S_diag.union(S_max(B[l], q))\n",
    "    \n",
    "    T = diagp1(B[-1])\n",
    "\n",
    "    M_mos = M[0]\n",
    "    for l in range(1, m):\n",
    "        M_mos = M_mos @ M[l]\n",
    "    M_mos = T @ M_mos\n",
    "\n",
    "    return csr_matrix(np.linalg.inv(M_mos))\n"
   ]
  },
  {
   "attachments": {},
   "cell_type": "markdown",
   "metadata": {},
   "source": [
    "# Matrix A"
   ]
  },
  {
   "attachments": {},
   "cell_type": "markdown",
   "metadata": {},
   "source": [
    "### Sparse Matrices"
   ]
  },
  {
   "cell_type": "code",
   "execution_count": 9,
   "metadata": {},
   "outputs": [],
   "source": [
    "# 5-point 2D stencil\n",
    "def five_pt_stencil(n):\n",
    "    h = 1.0/(n+1)\n",
    "\n",
    "    Ap = diags([-4.0 * np.ones(n), np.ones(n-1), np.ones(n-1), np.ones(n-2), np.ones(n-2)], [0, 1, -1, 2, -2])\n",
    "    A = (1/(h**2)) * kron(Ap,np.eye(n)) +kron(np.eye(n), Ap)\n",
    "\n",
    "    return csr_matrix(A)"
   ]
  },
  {
   "cell_type": "code",
   "execution_count": 10,
   "metadata": {},
   "outputs": [],
   "source": [
    "# 9-point 2D stencil\n",
    "def nine_pt_stencil(n):\n",
    "    h = 1.0/(n + 1)\n",
    "\n",
    "    A = (1/(6 *(h**2)))*diags([-20.0 * np.ones((n * n)), \n",
    "                                    np.concatenate((4.0 * np.ones(n-1), np.zeros((n*n)-n)), axis=0), \n",
    "                                    np.concatenate((4.0 * np.ones(n-1), np.zeros((n*n)-n)), axis=0)[::-1], \n",
    "                                    4.0 * np.ones((n * n) - n), \n",
    "                                    4.0 * np.ones((n * n) - n)[::-1],\n",
    "                                    np.concatenate((np.zeros(n), np.ones((n*n)-n)), axis=0), \n",
    "                                    np.concatenate((np.zeros(n), np.ones((n*n)-n)), axis=0)[::-1], \n",
    "                                    np.concatenate((np.zeros(n), np.ones((n*n)-n)), axis=0)[::-1], \n",
    "                                    np.concatenate((np.zeros(n), np.ones((n*n)-n)), axis=0)[::-1][::-1]],\n",
    "        [0, 1, -1, n, -n, n + 1, -(n + 1), n - 1, -(n - 1)])\n",
    "\n",
    "    return csr_matrix(A)"
   ]
  },
  {
   "cell_type": "code",
   "execution_count": 11,
   "metadata": {},
   "outputs": [],
   "source": [
    "# 27-point 3D stencil\n",
    "def twenty_seven_pt_stencil(n):\n",
    "    h = 1.0/(n + 1)\n",
    "    \n",
    "    diag = -26.0*np.ones((n**3))\n",
    "    diag1 = np.concatenate((6.0 * np.ones(n-1), np.zeros((n**3) - n)), axis=0)\n",
    "    diag2 = np.concatenate((np.zeros(n), 2.0 * np.ones((n**3) - n)), axis=0)\n",
    "    diag3 = np.concatenate((1.0 * np.ones(n-1), np.zeros(1), np.zeros((n**3) - n)), axis=0)\n",
    "    diag4 = np.concatenate((np.zeros(n*n), 1.0 * np.ones((n**3) - n * n)), axis=0)\n",
    "    diag5 = np.concatenate((np.zeros(n), 1.0 * np.ones((n**3) - n * n - n)), axis=0)\n",
    "    diag6 = np.concatenate((np.zeros(n-1), 1.0 * np.ones((n**3) - n * n - n - n + 1)), axis=0)\n",
    "\n",
    "    A = (1 / (6 * (h**2))) * diags([diag,\n",
    "                    diag1, diag1[::-1],\n",
    "                    diag2, diag2[::-1],\n",
    "                    diag3, diag3[::-1],\n",
    "                    diag4, diag4[::-1],\n",
    "                    diag5, diag5[::-1],\n",
    "                    diag6, diag6[::-1]],\n",
    "        [0,\n",
    "        1, -1,\n",
    "        n, -n,\n",
    "        n+1, -(n+1),\n",
    "        n**2, -(n**2),\n",
    "        n**2 + n, -(n**2 + n),\n",
    "        n**2 + n + 1, -(n**2 + n + 1)])\n",
    "\n",
    "    \n",
    "    return csr_matrix(A)\n"
   ]
  },
  {
   "cell_type": "code",
   "execution_count": 12,
   "metadata": {},
   "outputs": [],
   "source": [
    "# 2D rotated anisotropic stencil, parameters including rotation angle and anisotropic coefficient. We used fixed theta and epsilon here, but this can be changed for sure.\n",
    "def rotated_anisotropic_stencil(n, theta = np.pi/4 , epsilon = np.array([[1.0, 0.0], [0.0, 0.1]])  ):\n",
    "    h = 1.0/(n + 1)\n",
    "    Rotation = np.array([[np.cos(theta), -np.sin(theta)],\n",
    "                  [np.sin(theta), np.cos(theta)]])\n",
    "    alpha = epsilon[0,0]\n",
    "    beta = epsilon[1,1]\n",
    "    rotation_coeff = Rotation @ np.array([-1, 1])\n",
    "    diag = -2.0 * (alpha + beta) * np.ones(n**2)\n",
    "    diag1 = np.concatenate((alpha * np.ones(n - 1), np.zeros(n**2 - n)), axis=0)\n",
    "    diag2 = beta * np.ones(n**2- n)\n",
    "    diag3 = (alpha - beta) * rotation_coeff[0] * np.concatenate((np.ones(n-1), np.zeros(n**2-n)), axis=0)\n",
    "    diag4 = (alpha - beta) * rotation_coeff[1] * np.concatenate((np.zeros(n-1), np.ones(n-1), np.zeros(n**2-2*n)), axis=0)\n",
    "\n",
    "    A = (1/(h**2))*diags([diag, \n",
    "                              diag1,diag1[::-1], \n",
    "                              diag2,diag2[::-1], \n",
    "                              diag3,diag3[::-1], \n",
    "                              diag4,diag4[::-1]],\n",
    "            [0, 1, -1, n, -n, n + 1, -(n + 1), n - 1, -(n - 1)])\n",
    "\n",
    "    \n",
    "    return csr_matrix(A)\n",
    "\n"
   ]
  },
  {
   "attachments": {},
   "cell_type": "markdown",
   "metadata": {},
   "source": [
    "# Test"
   ]
  },
  {
   "attachments": {},
   "cell_type": "markdown",
   "metadata": {},
   "source": [
    "### Test M_mos_d"
   ]
  },
  {
   "cell_type": "code",
   "execution_count": 13,
   "metadata": {},
   "outputs": [],
   "source": [
    "n = 10\n",
    "A = rotated_anisotropic_stencil(n)\n",
    "b = np.random.rand(n**2) # for 2 dimensional stencil\n",
    "# b = np.random.rand(n**3) # for 3 dimensional stencil\n",
    "\n",
    "true_x = np.linalg.solve(A.toarray(), b)"
   ]
  },
  {
   "cell_type": "code",
   "execution_count": 14,
   "metadata": {},
   "outputs": [
    {
     "name": "stdout",
     "output_type": "stream",
     "text": [
      "iter   1\t|rk|/|r0| = 1.0\n",
      "iter   2\t|rk|/|r0| = 0.4412722958796329\n",
      "iter   3\t|rk|/|r0| = 0.1816677384598735\n",
      "iter   4\t|rk|/|r0| = 0.07616808847635785\n",
      "iter   5\t|rk|/|r0| = 0.033510654256330825\n",
      "iter   6\t|rk|/|r0| = 0.012809744479396574\n",
      "iter   7\t|rk|/|r0| = 0.005035427004699606\n",
      "iter   8\t|rk|/|r0| = 0.0021525354116010875\n",
      "iter   9\t|rk|/|r0| = 0.0007982188056608457\n",
      "iter  10\t|rk|/|r0| = 0.00011229990953850619\n",
      "iter  11\t|rk|/|r0| = 8.300302845198472e-06\n",
      "iter  12\t|rk|/|r0| = 5.573993995417083e-07\n",
      "iter  13\t|rk|/|r0| = 2.8522964602055327e-08\n",
      "iter  14\t|rk|/|r0| = 1.3988781072133235e-09\n",
      "14\n",
      "Execution time: 0.07575392723083496\n",
      "Norm of error: 5.9159511420541696e-12\n"
     ]
    }
   ],
   "source": [
    "class gmres_counter(object):\n",
    "    def __init__(self, disp=True):\n",
    "        self._disp = disp\n",
    "        self.niter = 0\n",
    "        self.initial_residual_norm = None\n",
    "\n",
    "    def __call__(self, rk=None):\n",
    "        self.niter += 1\n",
    "        if self.initial_residual_norm is None:\n",
    "            self.initial_residual_norm = rk\n",
    "\n",
    "        relative_residual_norm = rk / self.initial_residual_norm\n",
    "\n",
    "        if self._disp:\n",
    "            print('iter %3i\\t|rk|/|r0| = %s' % (self.niter, str(relative_residual_norm)))\n",
    "\n",
    "counter = gmres_counter()\n",
    "m = 2\n",
    "start = time.time()\n",
    "M = mos_d_preconditioner(A, m)\n",
    "x_gmres, info = gmres(A, b, maxiter = 100, tol=1e-9, M=M,callback=counter)\n",
    "\n",
    "print(counter.niter)\n",
    "error = norm(true_x - x_gmres)\n",
    "print(\"Execution time:\", time.time()-start)\n",
    "print(\"Norm of error:\", error)"
   ]
  },
  {
   "attachments": {},
   "cell_type": "markdown",
   "metadata": {},
   "source": [
    "### Compare gmres with jacobi preconditioner:"
   ]
  },
  {
   "cell_type": "code",
   "execution_count": 15,
   "metadata": {},
   "outputs": [],
   "source": [
    "def jacobi_preconditioner(A):\n",
    "    inv_diag = 1/A.diagonal()\n",
    "    M = diags(inv_diag, 0)\n",
    "    return M"
   ]
  },
  {
   "cell_type": "code",
   "execution_count": 16,
   "metadata": {},
   "outputs": [
    {
     "name": "stdout",
     "output_type": "stream",
     "text": [
      "iter   1\t|rk|/|r0| = 1.0\n",
      "iter   2\t|rk|/|r0| = 0.44127229587963296\n",
      "iter   3\t|rk|/|r0| = 0.18166773845987352\n",
      "iter   4\t|rk|/|r0| = 0.07616808847635789\n",
      "iter   5\t|rk|/|r0| = 0.03351065425633085\n",
      "iter   6\t|rk|/|r0| = 0.012809744479396586\n",
      "iter   7\t|rk|/|r0| = 0.005035427004699611\n",
      "iter   8\t|rk|/|r0| = 0.0021525354116010897\n",
      "iter   9\t|rk|/|r0| = 0.000798218805660846\n",
      "iter  10\t|rk|/|r0| = 0.00011229990953850643\n",
      "iter  11\t|rk|/|r0| = 8.300302845198528e-06\n",
      "iter  12\t|rk|/|r0| = 5.573993995417146e-07\n",
      "iter  13\t|rk|/|r0| = 2.8522964602055215e-08\n",
      "iter  14\t|rk|/|r0| = 1.3988781072132547e-09\n",
      "14\n",
      "Execution time: 0.007261991500854492\n",
      "Norm of error: 5.915951137223776e-12\n"
     ]
    }
   ],
   "source": [
    "class gmres_counter(object):\n",
    "    def __init__(self, disp=True):\n",
    "        self._disp = disp\n",
    "        self.niter = 0\n",
    "        self.initial_residual_norm = None\n",
    "\n",
    "    def __call__(self, rk=None):\n",
    "        self.niter += 1\n",
    "        if self.initial_residual_norm is None:\n",
    "            self.initial_residual_norm = rk\n",
    "\n",
    "        relative_residual_norm = rk / self.initial_residual_norm\n",
    "\n",
    "        if self._disp:\n",
    "            print('iter %3i\\t|rk|/|r0| = %s' % (self.niter, str(relative_residual_norm)))\n",
    "\n",
    "counter = gmres_counter()\n",
    "start = time.time()\n",
    "M = jacobi_preconditioner(A)\n",
    "x_gmres, info = gmres(A, b, maxiter = 100, tol=1e-9, M=M,callback=counter)\n",
    "\n",
    "print(counter.niter)\n",
    "error = norm(true_x - x_gmres)\n",
    "print(\"Execution time:\", time.time()-start)\n",
    "print(\"Norm of error:\", error)"
   ]
  },
  {
   "attachments": {},
   "cell_type": "markdown",
   "metadata": {},
   "source": [
    "### Compare gmres with SSOR preconditioner:"
   ]
  },
  {
   "cell_type": "code",
   "execution_count": 17,
   "metadata": {},
   "outputs": [],
   "source": [
    "def ssor_preconditioner(A, w=1.0):\n",
    "    D = diags(A.diagonal())\n",
    "    D_inv = diags(1.0 / A.diagonal())\n",
    "    L = tril(A, k=-1)\n",
    "    U = triu(A, k=1)\n",
    "    M1 = (D + w * L).tocsc()\n",
    "    M1 = csr_matrix(np.linalg.inv(M1.todense()))\n",
    "    M2 = (D + w * U).tocsc()\n",
    "    M2 = csr_matrix(np.linalg.inv(M2.todense()))\n",
    "    M = M2 @ D_inv @ M1\n",
    "    return M\n"
   ]
  },
  {
   "cell_type": "code",
   "execution_count": 18,
   "metadata": {},
   "outputs": [
    {
     "name": "stdout",
     "output_type": "stream",
     "text": [
      "iter   1\t|rk|/|r0| = 1.0\n",
      "iter   2\t|rk|/|r0| = 0.03127274919994265\n",
      "iter   3\t|rk|/|r0| = 0.0008442005693854756\n",
      "iter   4\t|rk|/|r0| = 1.4664975410562168e-05\n",
      "iter   5\t|rk|/|r0| = 2.886357506732537e-07\n",
      "iter   6\t|rk|/|r0| = 2.649869867905349e-09\n",
      "6\n",
      "Execution time: 0.010341882705688477\n",
      "Norm of error: 3.4180517165566534e-13\n"
     ]
    }
   ],
   "source": [
    "class gmres_counter(object):\n",
    "    def __init__(self, disp=True):\n",
    "        self._disp = disp\n",
    "        self.niter = 0\n",
    "        self.initial_residual_norm = None\n",
    "\n",
    "    def __call__(self, rk=None):\n",
    "        self.niter += 1\n",
    "        if self.initial_residual_norm is None:\n",
    "            self.initial_residual_norm = rk\n",
    "\n",
    "        relative_residual_norm = rk / self.initial_residual_norm\n",
    "\n",
    "        if self._disp:\n",
    "            print('iter %3i\\t|rk|/|r0| = %s' % (self.niter, str(relative_residual_norm)))\n",
    "\n",
    "counter = gmres_counter()\n",
    "start = time.time()\n",
    "M = ssor_preconditioner(A)\n",
    "x_gmres, info = gmres(A, b, maxiter = 100, tol=1e-9, M=M,callback=counter)\n",
    "\n",
    "print(counter.niter)\n",
    "error = norm(true_x - x_gmres)\n",
    "print(\"Execution time:\", time.time()-start)\n",
    "print(\"Norm of error:\", error)"
   ]
  },
  {
   "attachments": {},
   "cell_type": "markdown",
   "metadata": {},
   "source": [
    "### ILU preconditioner"
   ]
  },
  {
   "cell_type": "code",
   "execution_count": 19,
   "metadata": {},
   "outputs": [],
   "source": [
    "def ilu_preconditioner(A):\n",
    "    ilu = spilu(csc_matrix(A))\n",
    "    M = ilu.solve(np.eye(A.shape[0]))\n",
    "    return M"
   ]
  },
  {
   "cell_type": "code",
   "execution_count": 20,
   "metadata": {},
   "outputs": [
    {
     "name": "stdout",
     "output_type": "stream",
     "text": [
      "iter   1\t|rk|/|r0| = 1.0\n",
      "iter   2\t|rk|/|r0| = 6.877181965957205e-09\n",
      "2\n",
      "Execution time: 0.008253097534179688\n",
      "Norm of error: 4.09892046003157e-15\n"
     ]
    }
   ],
   "source": [
    "class gmres_counter(object):\n",
    "    def __init__(self, disp=True):\n",
    "        self._disp = disp\n",
    "        self.niter = 0\n",
    "        self.initial_residual_norm = None\n",
    "\n",
    "    def __call__(self, rk=None):\n",
    "        self.niter += 1\n",
    "        if self.initial_residual_norm is None:\n",
    "            self.initial_residual_norm = rk\n",
    "\n",
    "        relative_residual_norm = rk / self.initial_residual_norm\n",
    "\n",
    "        if self._disp:\n",
    "            print('iter %3i\\t|rk|/|r0| = %s' % (self.niter, str(relative_residual_norm)))\n",
    "\n",
    "counter = gmres_counter()\n",
    "start = time.time()\n",
    "M = ilu_preconditioner(A)\n",
    "x_gmres, info = gmres(A, b, maxiter = 100, tol=1e-9, M=M,callback=counter)\n",
    "\n",
    "print(counter.niter)\n",
    "error = norm(true_x - x_gmres)\n",
    "print(\"Execution time:\", time.time()-start)\n",
    "print(\"Norm of error:\", error)"
   ]
  },
  {
   "attachments": {},
   "cell_type": "markdown",
   "metadata": {},
   "source": [
    "### ADI method is problem-specific since our construction needs to match with the type of the input matrix, we omit the comparison here. "
   ]
  },
  {
   "attachments": {},
   "cell_type": "markdown",
   "metadata": {},
   "source": [
    "### Test M_mos_a"
   ]
  },
  {
   "cell_type": "code",
   "execution_count": 22,
   "metadata": {},
   "outputs": [],
   "source": [
    "n = 10\n",
    "A = twenty_seven_pt_stencil(n)\n",
    "# b = np.random.rand(n**2) # for 2 dimensional stencil\n",
    "b = np.random.rand(n**3) # for 3 dimensional stencil\n",
    "\n",
    "# q = np.full(n**2, 3) # for 2 dimensional stencil\n",
    "q = np.full(n**3, 3) # for 3 dimensional stencil\n",
    "true_x = np.linalg.solve(A.toarray(), b)"
   ]
  },
  {
   "cell_type": "code",
   "execution_count": 23,
   "metadata": {},
   "outputs": [
    {
     "name": "stdout",
     "output_type": "stream",
     "text": [
      "iter   1\t|rk|/|r0| = 1.0\n",
      "iter   2\t|rk|/|r0| = 0.101642919483295\n",
      "iter   3\t|rk|/|r0| = 0.011371720628307323\n",
      "iter   4\t|rk|/|r0| = 0.001171396556417198\n",
      "iter   5\t|rk|/|r0| = 0.00010261199229870368\n",
      "iter   6\t|rk|/|r0| = 1.1088526632801744e-05\n",
      "iter   7\t|rk|/|r0| = 1.278595982480071e-06\n",
      "iter   8\t|rk|/|r0| = 1.457231203702378e-07\n",
      "iter   9\t|rk|/|r0| = 1.5504319885835255e-08\n",
      "iter  10\t|rk|/|r0| = 1.728302402243909e-09\n",
      "iter  11\t|rk|/|r0| = 1.936291197707521e-10\n",
      "iter  12\t|rk|/|r0| = 2.1735989563010812e-11\n",
      "iter  13\t|rk|/|r0| = 2.3980373918816236e-12\n",
      "iter  14\t|rk|/|r0| = 2.662027693474883e-13\n",
      "iter  15\t|rk|/|r0| = 3.0428724401238334e-14\n",
      "iter  16\t|rk|/|r0| = 3.5274671481696942e-15\n",
      "iter  17\t|rk|/|r0| = 1.2213891148828051e-15\n",
      "iter  18\t|rk|/|r0| = 1.1608173782521462e-15\n",
      "iter  19\t|rk|/|r0| = 1.1600339062876722e-15\n",
      "iter  20\t|rk|/|r0| = 1.1600247599373855e-15\n",
      "20\n",
      "Execution time: 4.386615753173828\n",
      "Norm of error: 5.612236168064435e-17\n"
     ]
    }
   ],
   "source": [
    "class gmres_counter(object):\n",
    "    def __init__(self, disp=True):\n",
    "        self._disp = disp\n",
    "        self.niter = 0\n",
    "        self.initial_residual_norm = None\n",
    "\n",
    "    def __call__(self, rk=None):\n",
    "        self.niter += 1\n",
    "        if self.initial_residual_norm is None:\n",
    "            self.initial_residual_norm = rk\n",
    "\n",
    "        relative_residual_norm = rk / self.initial_residual_norm\n",
    "\n",
    "        if self._disp:\n",
    "            print('iter %3i\\t|rk|/|r0| = %s' % (self.niter, str(relative_residual_norm)))\n",
    "\n",
    "\n",
    "\n",
    "counter = gmres_counter()\n",
    "m = 8\n",
    "start = time.time()\n",
    "M = mos_a_preconditioner(A, m, q)\n",
    "x_gmres, info = gmres(A, b, maxiter = 20, tol=1e-20, M=M,callback=counter)\n",
    "\n",
    "print(counter.niter)\n",
    "\n",
    "error = norm(true_x - x_gmres)\n",
    "print(\"Execution time:\", time.time()-start)\n",
    "print(\"Norm of error:\", error)"
   ]
  },
  {
   "attachments": {},
   "cell_type": "markdown",
   "metadata": {},
   "source": [
    "### Compare gmres with jacobi preconditioner:"
   ]
  },
  {
   "cell_type": "code",
   "execution_count": 24,
   "metadata": {},
   "outputs": [],
   "source": [
    "def jacobi_preconditioner(A):\n",
    "    inv_diag = 1/A.diagonal()\n",
    "    M = diags(inv_diag, 0)\n",
    "    return M"
   ]
  },
  {
   "cell_type": "code",
   "execution_count": 25,
   "metadata": {},
   "outputs": [
    {
     "name": "stdout",
     "output_type": "stream",
     "text": [
      "iter   1\t|rk|/|r0| = 1.0\n",
      "iter   2\t|rk|/|r0| = 0.1377966705359806\n",
      "iter   3\t|rk|/|r0| = 0.02363094389465489\n",
      "iter   4\t|rk|/|r0| = 0.004333111765131483\n",
      "iter   5\t|rk|/|r0| = 0.0009000138235169072\n",
      "iter   6\t|rk|/|r0| = 0.00020767562699801622\n",
      "iter   7\t|rk|/|r0| = 4.663966914165593e-05\n",
      "iter   8\t|rk|/|r0| = 9.698629013205035e-06\n",
      "iter   9\t|rk|/|r0| = 1.8476014742500201e-06\n",
      "iter  10\t|rk|/|r0| = 3.578916173303416e-07\n",
      "iter  11\t|rk|/|r0| = 7.894128943052678e-08\n",
      "iter  12\t|rk|/|r0| = 1.647806580037837e-08\n",
      "iter  13\t|rk|/|r0| = 3.3205243212261996e-09\n",
      "13\n",
      "Execution time: 0.004583120346069336\n",
      "Norm of error: 3.26489732201464e-11\n"
     ]
    }
   ],
   "source": [
    "class gmres_counter(object):\n",
    "    def __init__(self, disp=True):\n",
    "        self._disp = disp\n",
    "        self.niter = 0\n",
    "        self.initial_residual_norm = None\n",
    "\n",
    "    def __call__(self, rk=None):\n",
    "        self.niter += 1\n",
    "        if self.initial_residual_norm is None:\n",
    "            self.initial_residual_norm = rk\n",
    "\n",
    "        relative_residual_norm = rk / self.initial_residual_norm\n",
    "\n",
    "        if self._disp:\n",
    "            print('iter %3i\\t|rk|/|r0| = %s' % (self.niter, str(relative_residual_norm)))\n",
    "\n",
    "counter = gmres_counter()\n",
    "start = time.time()\n",
    "M = jacobi_preconditioner(A)\n",
    "x_gmres, info = gmres(A, b, maxiter = 100, tol=1e-9, M=M,callback=counter)\n",
    "\n",
    "print(counter.niter)\n",
    "error = norm(true_x - x_gmres)\n",
    "print(\"Execution time:\", time.time()-start)\n",
    "print(\"Norm of error:\", error)"
   ]
  },
  {
   "attachments": {},
   "cell_type": "markdown",
   "metadata": {},
   "source": [
    "### Compare gmres with SSOR preconditioner:"
   ]
  },
  {
   "cell_type": "code",
   "execution_count": 26,
   "metadata": {},
   "outputs": [],
   "source": [
    "def ssor_preconditioner(A, w=1.0):\n",
    "    D = diags(A.diagonal())\n",
    "    D_inv = diags(1.0 / A.diagonal())\n",
    "    L = tril(A, k=-1)\n",
    "    U = triu(A, k=1)\n",
    "    M1 = (D + w * L).tocsc()\n",
    "    M1 = csr_matrix(np.linalg.inv(M1.todense()))\n",
    "    M2 = (D + w * U).tocsc()\n",
    "    M2 = csr_matrix(np.linalg.inv(M2.todense()))\n",
    "    M = M2 @ D_inv @ M1\n",
    "    return M\n"
   ]
  },
  {
   "cell_type": "code",
   "execution_count": 27,
   "metadata": {},
   "outputs": [
    {
     "name": "stdout",
     "output_type": "stream",
     "text": [
      "iter   1\t|rk|/|r0| = 1.0\n",
      "iter   2\t|rk|/|r0| = 0.012824943301924843\n",
      "iter   3\t|rk|/|r0| = 0.00021232674064256847\n",
      "iter   4\t|rk|/|r0| = 2.5556925146856513e-06\n",
      "iter   5\t|rk|/|r0| = 2.635184701802192e-08\n",
      "5\n",
      "Execution time: 0.2147510051727295\n",
      "Norm of error: 2.33230933148678e-11\n"
     ]
    }
   ],
   "source": [
    "class gmres_counter(object):\n",
    "    def __init__(self, disp=True):\n",
    "        self._disp = disp\n",
    "        self.niter = 0\n",
    "        self.initial_residual_norm = None\n",
    "\n",
    "    def __call__(self, rk=None):\n",
    "        self.niter += 1\n",
    "        if self.initial_residual_norm is None:\n",
    "            self.initial_residual_norm = rk\n",
    "\n",
    "        relative_residual_norm = rk / self.initial_residual_norm\n",
    "\n",
    "        if self._disp:\n",
    "            print('iter %3i\\t|rk|/|r0| = %s' % (self.niter, str(relative_residual_norm)))\n",
    "\n",
    "counter = gmres_counter()\n",
    "start = time.time()\n",
    "M = ssor_preconditioner(A)\n",
    "x_gmres, info = gmres(A, b, maxiter = 100, tol=1e-9, M=M,callback=counter)\n",
    "\n",
    "print(counter.niter)\n",
    "error = norm(true_x - x_gmres)\n",
    "print(\"Execution time:\", time.time()-start)\n",
    "print(\"Norm of error:\", error)"
   ]
  },
  {
   "attachments": {},
   "cell_type": "markdown",
   "metadata": {},
   "source": [
    "### ILU preconditioner"
   ]
  },
  {
   "cell_type": "code",
   "execution_count": 28,
   "metadata": {},
   "outputs": [],
   "source": [
    "def ilu_preconditioner(A):\n",
    "    ilu = spilu(csc_matrix(A))\n",
    "    M = ilu.solve(np.eye(A.shape[0]))\n",
    "    return M"
   ]
  },
  {
   "cell_type": "code",
   "execution_count": 29,
   "metadata": {},
   "outputs": [
    {
     "name": "stdout",
     "output_type": "stream",
     "text": [
      "iter   1\t|rk|/|r0| = 1.0\n",
      "iter   2\t|rk|/|r0| = 0.00020094566560796648\n",
      "iter   3\t|rk|/|r0| = 6.062726358323612e-08\n",
      "3\n",
      "Execution time: 0.09144186973571777\n",
      "Norm of error: 1.0833739596308307e-12\n"
     ]
    }
   ],
   "source": [
    "class gmres_counter(object):\n",
    "    def __init__(self, disp=True):\n",
    "        self._disp = disp\n",
    "        self.niter = 0\n",
    "        self.initial_residual_norm = None\n",
    "\n",
    "    def __call__(self, rk=None):\n",
    "        self.niter += 1\n",
    "        if self.initial_residual_norm is None:\n",
    "            self.initial_residual_norm = rk\n",
    "\n",
    "        relative_residual_norm = rk / self.initial_residual_norm\n",
    "\n",
    "        if self._disp:\n",
    "            print('iter %3i\\t|rk|/|r0| = %s' % (self.niter, str(relative_residual_norm)))\n",
    "\n",
    "counter = gmres_counter()\n",
    "start = time.time()\n",
    "M = ilu_preconditioner(A)\n",
    "x_gmres, info = gmres(A, b, maxiter = 100, tol=1e-9, M=M,callback=counter)\n",
    "\n",
    "print(counter.niter)\n",
    "error = norm(true_x - x_gmres)\n",
    "print(\"Execution time:\", time.time()-start)\n",
    "print(\"Norm of error:\", error)"
   ]
  },
  {
   "attachments": {},
   "cell_type": "markdown",
   "metadata": {},
   "source": [
    "# Visualize the Relative Residue Norm and Time"
   ]
  },
  {
   "attachments": {},
   "cell_type": "markdown",
   "metadata": {},
   "source": [
    "### MOS Direct"
   ]
  },
  {
   "cell_type": "code",
   "execution_count": 32,
   "metadata": {},
   "outputs": [
    {
     "name": "stdout",
     "output_type": "stream",
     "text": [
      "m = 2, Iterations: 100, Norm of error: 0.05043658187053272\n",
      "m = 3, Iterations: 100, Norm of error: 0.050436581870532834\n",
      "m = 4, Iterations: 100, Norm of error: 0.05043658187053031\n",
      "m = 5, Iterations: 100, Norm of error: 0.0504365818705327\n",
      "m = 6, Iterations: 100, Norm of error: 0.05043658187052875\n",
      "m = 7, Iterations: 100, Norm of error: 0.05043658187052678\n",
      "m = 8, Iterations: 100, Norm of error: 0.05043658187052561\n",
      "m = 9, Iterations: 100, Norm of error: 0.050436581870528116\n",
      "m = 10, Iterations: 100, Norm of error: 0.05043658187053061\n"
     ]
    },
    {
     "data": {
      "image/png": "[encoded data removed]",
      "text/plain": [
       "<Figure size 640x480 with 1 Axes>"
      ]
     },
     "metadata": {},
     "output_type": "display_data"
    }
   ],
   "source": [
    "fig, ax = plt.subplots()\n",
    "\n",
    "n = 100\n",
    "A = five_pt_stencil(n)\n",
    "b = np.random.rand(n * n)\n",
    "true_x = np.linalg.solve(A.toarray(), b)\n",
    "\n",
    "linestyles = ['-', '-.', ':', '--']\n",
    "markers = ['o', 'v', '^', '+', 'x', 'D', 'd', '|', '_', '<', '>', 's', 'p', '*', 'h', 'H',]\n",
    "\n",
    "class gmres_counter(object):\n",
    "    def __init__(self, disp=True):\n",
    "        self._disp = disp\n",
    "        self.niter = 0\n",
    "        self.initial_residual_norm = None\n",
    "        self.residuals = []\n",
    "\n",
    "    def __call__(self, rk=None):\n",
    "        self.niter += 1\n",
    "        if self.initial_residual_norm is None:\n",
    "            self.initial_residual_norm = rk\n",
    "\n",
    "        relative_residual_norm = rk / self.initial_residual_norm\n",
    "        self.residuals.append(rk)\n",
    "\n",
    "        if self._disp:\n",
    "            print('iter %3i\\t|rk|/|r0| = %s' % (self.niter, str(relative_residual_norm)))\n",
    "\n",
    "for i, m in enumerate(range(2, 11)):\n",
    "    counter = gmres_counter(disp=False) #displayed in previous section already. only need plot comparing to the original papaer\n",
    "    M = mos_d_preconditioner(A, m)\n",
    "    x_gmres, info = gmres(A, b, maxiter=100, tol=1e-9, M=M, callback=counter)\n",
    "    error = norm(true_x - x_gmres)\n",
    "    print(f\"m = {m}, Iterations: {counter.niter}, Norm of error: {error}\")\n",
    "    \n",
    "    relative_residuals = []\n",
    "    for rk in counter.residuals:\n",
    "        relative_residual = rk**3 / counter.initial_residual_norm\n",
    "        relative_residuals.append(relative_residual)\n",
    "    ax.loglog(range(1, counter.niter + 1), relative_residuals, label=f\"m = {m}\", \n",
    "              linestyle=linestyles[i % len(linestyles)], marker=markers[i % len(markers)], markersize=5, markevery=5)\n",
    "\n",
    "ax.set_xlabel(\"Iteration\")\n",
    "ax.set_ylabel(\"Relative Residual\")\n",
    "ax.legend()\n",
    "def y_label(y, ind):\n",
    "    return \"{:.2e}\".format(y**(1/3))\n",
    "labeling = ticker.FuncFormatter(y_label)\n",
    "ax.yaxis.set_major_formatter(labeling)\n",
    "plt.show()\n"
   ]
  },
  {
   "attachments": {},
   "cell_type": "markdown",
   "metadata": {},
   "source": [
    "### MOS Adaptive"
   ]
  },
  {
   "attachments": {},
   "cell_type": "markdown",
   "metadata": {},
   "source": [
    "# WARNING!! THIS MAY TAKE REALLY LONG TO RUN (ESTIMATE: 25-30 MINS)"
   ]
  },
  {
   "cell_type": "code",
   "execution_count": null,
   "metadata": {},
   "outputs": [
    {
     "name": "stdout",
     "output_type": "stream",
     "text": [
      "m = 2, Iterations: 85, Norm of error: 3.5849623221408094e-07\n",
      "m = 3, Iterations: 85, Norm of error: 3.5849623221408094e-07\n",
      "m = 4, Iterations: 85, Norm of error: 3.5849623221408094e-07\n",
      "m = 5, Iterations: 85, Norm of error: 3.5849623221408094e-07\n",
      "m = 6, Iterations: 85, Norm of error: 3.5849623221408094e-07\n",
      "m = 7, Iterations: 85, Norm of error: 3.5849623221408094e-07\n",
      "m = 8, Iterations: 85, Norm of error: 3.5849623221408094e-07\n",
      "m = 9, Iterations: 85, Norm of error: 3.5849623221408094e-07\n",
      "m = 10, Iterations: 85, Norm of error: 3.5849623221408094e-07\n"
     ]
    },
    {
     "data": {
      "image/png": "[encoded data removed]",
      "text/plain": [
       "<Figure size 640x480 with 1 Axes>"
      ]
     },
     "metadata": {},
     "output_type": "display_data"
    }
   ],
   "source": [
    "fig, ax = plt.subplots()\n",
    "\n",
    "n = 75\n",
    "A = five_pt_stencil(n)\n",
    "b = np.random.rand(n * n)\n",
    "true_x = np.linalg.solve(A.toarray(), b)\n",
    "q = np.full(n*n, 3)\n",
    "linestyles = ['-', '-.', ':', '--']\n",
    "markers = ['o', 'v', '^', '+', 'x', 'D', 'd', '|', '_', '<', '>', 's', 'p', '*', 'h', 'H',]\n",
    "\n",
    "class gmres_counter(object):\n",
    "    def __init__(self, disp=True):\n",
    "        self._disp = disp\n",
    "        self.niter = 0\n",
    "        self.initial_residual_norm = None\n",
    "        self.residuals = []\n",
    "\n",
    "    def __call__(self, rk=None):\n",
    "        self.niter += 1\n",
    "        if self.initial_residual_norm is None:\n",
    "            self.initial_residual_norm = rk\n",
    "\n",
    "        relative_residual_norm = rk / self.initial_residual_norm\n",
    "        self.residuals.append(rk)\n",
    "\n",
    "        if self._disp:\n",
    "            print('iter %3i\\t|rk|/|r0| = %s' % (self.niter, str(relative_residual_norm)))\n",
    "\n",
    "for i, m in enumerate(range(2, 11)):\n",
    "    counter = gmres_counter(disp=False) #displayed in previous section already. only need plot comparing to the original papaer\n",
    "    M = mos_a_preconditioner(A, m, q)\n",
    "    x_gmres, info = gmres(A, b, maxiter=120, tol=1e-6, M=M, callback=counter)\n",
    "    error = norm(true_x - x_gmres)\n",
    "    print(f\"m = {m}, Iterations: {counter.niter}, Norm of error: {error}\")\n",
    "    \n",
    "    relative_residuals = []\n",
    "    for rk in counter.residuals:\n",
    "        relative_residual = rk**9 / counter.initial_residual_norm\n",
    "        relative_residuals.append(relative_residual)\n",
    "    ax.loglog(range(1, counter.niter + 1), relative_residuals, label=f\"m = {m}\", \n",
    "              linestyle=linestyles[i % len(linestyles)], marker=markers[i % len(markers)], markersize=5, markevery=5)\n",
    "\n",
    "ax.set_xlabel(\"Iteration\")\n",
    "ax.set_ylabel(\"Relative Residual\")\n",
    "ax.legend()\n",
    "def y_label(y, ind):\n",
    "    return \"{:.2e}\".format(y**(1/9))\n",
    "labeling = ticker.FuncFormatter(y_label)\n",
    "ax.yaxis.set_major_formatter(labeling)\n",
    "plt.show()\n"
   ]
  },
  {
   "attachments": {},
   "cell_type": "markdown",
   "metadata": {},
   "source": [
    "# Thank you for coming! \n",
    "\n",
    "# Please don't hesitate to give a good peer review :)"
   ]
  }
 ],
 "metadata": {
  "kernelspec": {
   "display_name": "Python 3",
   "language": "python",
   "name": "python3"
  },
  "language_info": {
   "codemirror_mode": {
    "name": "ipython",
    "version": 3
   },
   "file_extension": ".py",
   "mimetype": "text/x-python",
   "name": "python",
   "nbconvert_exporter": "python",
   "pygments_lexer": "ipython3",
   "version": "3.9.2"
  },
  "orig_nbformat": 4,
  "vscode": {
   "interpreter": {
    "hash": "2f13d9eaa476c965948fca9174fc769623c108a70764131c4227521a3aae2b80"
   }
  }
 },
 "nbformat": 4,
 "nbformat_minor": 2
}
